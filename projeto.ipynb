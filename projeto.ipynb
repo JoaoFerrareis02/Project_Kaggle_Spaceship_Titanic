{
 "cells": [
  {
   "cell_type": "markdown",
   "metadata": {},
   "source": [
    "### Imports usados no projeto"
   ]
  },
  {
   "cell_type": "code",
   "execution_count": null,
   "metadata": {},
   "outputs": [],
   "source": [
    "import pandas as pd\n",
    "from sklearn.base import BaseEstimator, TransformerMixin\n",
    "from sklearn.pipeline import Pipeline, FeatureUnion\n",
    "from sklearn.impute import SimpleImputer\n",
    "from sklearn.preprocessing import StandardScaler, OneHotEncoder\n",
    "from sklearn.tree import DecisionTreeClassifier\n",
    "from sklearn.metrics import accuracy_score\n",
    "from sklearn.model_selection import cross_validate\n",
    "import numpy as np\n",
    "from sklearn.model_selection import GridSearchCV\n",
    "from sklearn.linear_model import LogisticRegression"
   ]
  },
  {
   "cell_type": "markdown",
   "metadata": {},
   "source": [
    "### Coleta e tratamento dos dados"
   ]
  },
  {
   "cell_type": "code",
   "execution_count": null,
   "metadata": {},
   "outputs": [],
   "source": [
    "data = pd.read_csv('database/train.csv')"
   ]
  },
  {
   "cell_type": "code",
   "execution_count": null,
   "metadata": {},
   "outputs": [],
   "source": [
    "X, y = data.drop('Transported', axis=1), data['Transported']"
   ]
  },
  {
   "cell_type": "code",
   "execution_count": null,
   "metadata": {},
   "outputs": [],
   "source": [
    "train = pd.read_csv('database/train.csv')\n",
    "test = pd.read_csv('database/test.csv')"
   ]
  },
  {
   "cell_type": "code",
   "execution_count": null,
   "metadata": {},
   "outputs": [],
   "source": [
    "class AtributosDesejados(BaseEstimator, TransformerMixin):\n",
    "    def fit(self, X, y=None):\n",
    "        self.colunasIndesejadas = ['PassengerId', 'Name', 'Cabin']\n",
    "        return self\n",
    "    def transform(self, X, y=None):\n",
    "        return X.drop(self.colunasIndesejadas, axis=1)"
   ]
  },
  {
   "cell_type": "code",
   "execution_count": null,
   "metadata": {},
   "outputs": [],
   "source": [
    "class AtributosNumericos(BaseEstimator, TransformerMixin):\n",
    "    def fit(self, X, y=None):\n",
    "        self.colunasNumericas = X.select_dtypes(include='number').columns\n",
    "        return self\n",
    "    def transform(self, X, y=None):\n",
    "        return X[self.colunasNumericas]"
   ]
  },
  {
   "cell_type": "code",
   "execution_count": null,
   "metadata": {},
   "outputs": [],
   "source": [
    "pipenum = Pipeline([\n",
    "    ('atributos_numericos', AtributosNumericos()),\n",
    "    ('imputer', SimpleImputer(strategy='median')),\n",
    "    ('scaler', StandardScaler())\n",
    "])"
   ]
  },
  {
   "cell_type": "code",
   "execution_count": null,
   "metadata": {},
   "outputs": [],
   "source": [
    "class AtributosCategoricos(BaseEstimator, TransformerMixin):\n",
    "    def fit(self, X, y=None):\n",
    "        self.colunasCategoricas = X.select_dtypes(include='object').columns\n",
    "        return self\n",
    "    def transform(self, X, y=None):\n",
    "        return X[self.colunasCategoricas]"
   ]
  },
  {
   "cell_type": "code",
   "execution_count": null,
   "metadata": {},
   "outputs": [],
   "source": [
    "pipecat = Pipeline([\n",
    "    ('atributos_categoricos', AtributosCategoricos()),\n",
    "    ('imputer', SimpleImputer(strategy='most_frequent')),\n",
    "    ('encoder', OneHotEncoder())\n",
    "])"
   ]
  },
  {
   "cell_type": "code",
   "execution_count": null,
   "metadata": {},
   "outputs": [],
   "source": [
    "uneCaracteristicas = FeatureUnion([\n",
    "    ('pipenum', pipenum),\n",
    "    ('pipecat', pipecat)\n",
    "])"
   ]
  },
  {
   "cell_type": "code",
   "execution_count": null,
   "metadata": {},
   "outputs": [],
   "source": [
    "preproc = Pipeline([\n",
    "    ('atributos_desejados', AtributosDesejados()),\n",
    "    ('unir_caracteristicas', uneCaracteristicas)\n",
    "])"
   ]
  },
  {
   "cell_type": "markdown",
   "metadata": {},
   "source": [
    "### Usando somente o DecisionTreeClassifier"
   ]
  },
  {
   "cell_type": "code",
   "execution_count": null,
   "metadata": {},
   "outputs": [],
   "source": [
    "pipetotal = Pipeline([\n",
    "    ('preproc', preproc),\n",
    "    ('arvore', DecisionTreeClassifier())\n",
    "])"
   ]
  },
  {
   "cell_type": "code",
   "execution_count": null,
   "metadata": {},
   "outputs": [],
   "source": [
    "pipetotal.fit(X, y)\n",
    "ypred = pipetotal.predict(X)\n",
    "accuracy_score(y, ypred)"
   ]
  },
  {
   "cell_type": "code",
   "execution_count": null,
   "metadata": {},
   "outputs": [],
   "source": [
    "scores = cross_validate(pipetotal, X, y)\n",
    "scores, np.mean(scores['test_score'])"
   ]
  },
  {
   "cell_type": "code",
   "execution_count": null,
   "metadata": {},
   "outputs": [],
   "source": [
    "ypred = pipetotal.predict(test)\n",
    "\n",
    "submission = pd.read_csv('database/sample_submission.csv')\n",
    "submission['Transported'] = ypred\n",
    "submission.to_csv('results/tree_submission.csv', index=False)"
   ]
  },
  {
   "cell_type": "markdown",
   "metadata": {},
   "source": [
    "### Usando o DecisionTreeClassifier e GridSearchCV"
   ]
  },
  {
   "cell_type": "code",
   "execution_count": null,
   "metadata": {},
   "outputs": [],
   "source": [
    "parametros = {\n",
    "    'arvore__max_depth': [None] + list(range(1,20,2)), \n",
    "    'preproc__unir_caracteristicas__pipenum__imputer__strategy': ['mean', 'median']\n",
    "}\n",
    "\n",
    "modelo = GridSearchCV(pipetotal, param_grid=parametros)\n",
    "\n",
    "scores = cross_validate(modelo, X, y)\n",
    "scores, np.mean(scores['test_score'])"
   ]
  },
  {
   "cell_type": "code",
   "execution_count": null,
   "metadata": {},
   "outputs": [],
   "source": [
    "modelo.fit(X,y)\n",
    "modelo.best_estimator_"
   ]
  },
  {
   "cell_type": "code",
   "execution_count": null,
   "metadata": {},
   "outputs": [],
   "source": [
    "ypred = modelo.predict(test)\n",
    "\n",
    "submission = pd.read_csv('database/sample_submission.csv')\n",
    "submission['Transported'] = ypred\n",
    "submission.to_csv('results/tree_gscv_submission.csv', index=False)"
   ]
  },
  {
   "cell_type": "markdown",
   "metadata": {},
   "source": [
    "### Usando um novo DecisionTreeClassifier e GridSearchCV"
   ]
  },
  {
   "cell_type": "code",
   "execution_count": null,
   "metadata": {},
   "outputs": [],
   "source": [
    "from sklearn.tree import DecisionTreeClassifier\n",
    "\n",
    "pipetotal = Pipeline([\n",
    "    ('preproc', preproc),\n",
    "    ('arvore', DecisionTreeClassifier())\n",
    "])\n",
    "\n",
    "parametros = {\n",
    "    'arvore__max_depth': [None] + list(range(1, 20, 2)),\n",
    "    'arvore__min_samples_split': [2, 5, 10],  # Example: Add more hyperparameters\n",
    "    'preproc__unir_caracteristicas__pipenum__imputer__strategy': ['mean', 'median', 'most_frequent']\n",
    "}\n",
    "\n",
    "modelo = GridSearchCV(pipetotal, param_grid=parametros, cv=5)  # Specify cv explicitly\n",
    "\n",
    "modelo.fit(X,y)\n",
    "ypred = modelo.predict(test)\n",
    "\n",
    "submission = pd.read_csv('database/sample_submission.csv')\n",
    "submission['Transported'] = ypred\n",
    "submission.to_csv('results/tree_gscv_new_submission.csv', index=False)"
   ]
  },
  {
   "cell_type": "markdown",
   "metadata": {},
   "source": [
    "### Usando LogisticRegression e GridSearchCV"
   ]
  },
  {
   "cell_type": "code",
   "execution_count": null,
   "metadata": {},
   "outputs": [],
   "source": [
    "pipetotal = Pipeline([\n",
    "    ('preproc', preproc),\n",
    "    ('logreg', LogisticRegression())\n",
    "])\n",
    "\n",
    "parametros = {\n",
    "    'logreg__C': [0.01, 0.1, 1, 10, 100],  \n",
    "    'logreg__max_iter': [100, 200, 300], \n",
    "    'preproc__unir_caracteristicas__pipenum__imputer__strategy': ['mean', 'median', 'most_frequent']\n",
    "}\n",
    "\n",
    "\n",
    "modelo = GridSearchCV(pipetotal, param_grid=parametros)  \n",
    "\n",
    "\n",
    "modelo.fit(X,y)\n",
    "\n",
    "ypred = modelo.predict(test)\n",
    "\n",
    "submission = pd.read_csv('database/sample_submission.csv')\n",
    "submission['Transported'] = ypred\n",
    "submission.to_csv('results/logreg_gscv_submission.csv', index=False)"
   ]
  },
  {
   "cell_type": "markdown",
   "metadata": {},
   "source": [
    "## Resultados\n",
    "\n",
    "Esses foram os resultados obtidos\n",
    "\n",
    "![Resultados](image/image.png)"
   ]
  }
 ],
 "metadata": {
  "kernelspec": {
   "display_name": ".venv",
   "language": "python",
   "name": "python3"
  },
  "language_info": {
   "codemirror_mode": {
    "name": "ipython",
    "version": 3
   },
   "file_extension": ".py",
   "mimetype": "text/x-python",
   "name": "python",
   "nbconvert_exporter": "python",
   "pygments_lexer": "ipython3",
   "version": "3.11.9"
  }
 },
 "nbformat": 4,
 "nbformat_minor": 2
}
